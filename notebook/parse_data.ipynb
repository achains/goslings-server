{
 "cells": [
  {
   "cell_type": "code",
   "execution_count": 2,
   "outputs": [],
   "source": [
    "import pathlib\n",
    "import os "
   ],
   "metadata": {
    "collapsed": false,
    "ExecuteTime": {
     "end_time": "2023-09-08T08:18:17.242100317Z",
     "start_time": "2023-09-08T08:18:17.239511517Z"
    }
   },
   "id": "58878179d903e56"
  },
  {
   "cell_type": "code",
   "execution_count": 3,
   "outputs": [],
   "source": [
    "class Config:\n",
    "    data_dir = pathlib.Path(\"/home/ach/Desktop/hackathon_data\") \n",
    "    reviews_dir = data_dir / \"data\"\n",
    "    pandas_df_path = data_dir / \"df.parquet\"\n",
    "    summary_path = data_dir / \"sum_table.csv\""
   ],
   "metadata": {
    "collapsed": false,
    "ExecuteTime": {
     "end_time": "2023-09-08T08:18:17.396601517Z",
     "start_time": "2023-09-08T08:18:17.395288836Z"
    }
   },
   "id": "initial_id"
  },
  {
   "cell_type": "code",
   "execution_count": 6,
   "outputs": [],
   "source": [
    "import pandas as pd "
   ],
   "metadata": {
    "collapsed": false,
    "ExecuteTime": {
     "end_time": "2023-09-08T08:19:54.829563824Z",
     "start_time": "2023-09-08T08:19:54.786526181Z"
    }
   },
   "id": "fe81f80edd29822d"
  },
  {
   "cell_type": "code",
   "execution_count": 7,
   "outputs": [],
   "source": [
    "df = pd.read_parquet(Config.pandas_df_path)"
   ],
   "metadata": {
    "collapsed": false,
    "ExecuteTime": {
     "end_time": "2023-09-08T08:19:55.240949295Z",
     "start_time": "2023-09-08T08:19:55.073072454Z"
    }
   },
   "id": "fe11d1dbde2e6c28"
  },
  {
   "cell_type": "code",
   "execution_count": 11,
   "outputs": [
    {
     "data": {
      "text/plain": "  source               phone_model  \\\n0   ixbt                 iPhone 13   \n1   ixbt              Tecno Pova 5   \n2   ixbt         Vivo X90 Pro Plus   \n3   ixbt                 Xiaomi 13   \n4   ixbt            Huawei P60 Pro   \n5   ixbt  Samsung Galaxy S23 Ultra   \n6   ixbt            Huawei Mate 50   \n7   ixbt                Realme C35   \n8   ixbt              Vivo V25 Pro   \n9   ixbt                  Vivo Y35   \n\n                                                 url  \\\n0  https://www.ixbt.com/infopages/stylus-iphone-1...   \n1  https://www.ixbt.com/mobile/tecno-pova-5-revie...   \n2  https://www.ixbt.com/mobile/vivo-x90-pro-plus-...   \n3  https://www.ixbt.com/mobile/xiaomi-13-review.html   \n4  https://www.ixbt.com/mobile/huawei-p60-pro-rev...   \n5  https://www.ixbt.com/mobile/samsung-galaxy-s23...   \n6  https://www.ixbt.com/mobile/huawei-mate-50-rev...   \n7  https://www.ixbt.com/mobile/realme-c35-review....   \n8  https://www.ixbt.com/mobile/vivo-v25-pro-revie...   \n9   https://www.ixbt.com/mobile/vivo-y35-review.html   \n\n                                        path_to_text  \\\n0  data/review_texts/ixbt/iphone 13_text_20230906...   \n1  data/review_texts/ixbt/tecno pova 5_text_20230...   \n2  data/review_texts/ixbt/vivo x90 pro plus_text_...   \n3  data/review_texts/ixbt/xiaomi 13_text_20230906...   \n4  data/review_texts/ixbt/huawei p60 pro_text_202...   \n5  data/review_texts/ixbt/samsung galaxy s23 ultr...   \n6  data/review_texts/ixbt/huawei mate 50_text_202...   \n7  data/review_texts/ixbt/realme c35_text_2023090...   \n8  data/review_texts/ixbt/vivo v25 pro_text_20230...   \n9  data/review_texts/ixbt/vivo y35_text_20230906.txt   \n\n                                       path_to_htmls  is_review_ready  \n0  data/review_htmls/ixbt/iphone 13_text_20230906...             True  \n1  data/review_htmls/ixbt/tecno pova 5_text_20230...             True  \n2  data/review_htmls/ixbt/vivo x90 pro plus_text_...             True  \n3  data/review_htmls/ixbt/xiaomi 13_text_20230906...             True  \n4  data/review_htmls/ixbt/huawei p60 pro_text_202...             True  \n5  data/review_htmls/ixbt/samsung galaxy s23 ultr...             True  \n6  data/review_htmls/ixbt/huawei mate 50_text_202...             True  \n7  data/review_htmls/ixbt/realme c35_text_2023090...             True  \n8  data/review_htmls/ixbt/vivo v25 pro_text_20230...             True  \n9  data/review_htmls/ixbt/vivo y35_text_20230906.txt             True  ",
      "text/html": "<div>\n<style scoped>\n    .dataframe tbody tr th:only-of-type {\n        vertical-align: middle;\n    }\n\n    .dataframe tbody tr th {\n        vertical-align: top;\n    }\n\n    .dataframe thead th {\n        text-align: right;\n    }\n</style>\n<table border=\"1\" class=\"dataframe\">\n  <thead>\n    <tr style=\"text-align: right;\">\n      <th></th>\n      <th>source</th>\n      <th>phone_model</th>\n      <th>url</th>\n      <th>path_to_text</th>\n      <th>path_to_htmls</th>\n      <th>is_review_ready</th>\n    </tr>\n  </thead>\n  <tbody>\n    <tr>\n      <th>0</th>\n      <td>ixbt</td>\n      <td>iPhone 13</td>\n      <td>https://www.ixbt.com/infopages/stylus-iphone-1...</td>\n      <td>data/review_texts/ixbt/iphone 13_text_20230906...</td>\n      <td>data/review_htmls/ixbt/iphone 13_text_20230906...</td>\n      <td>True</td>\n    </tr>\n    <tr>\n      <th>1</th>\n      <td>ixbt</td>\n      <td>Tecno Pova 5</td>\n      <td>https://www.ixbt.com/mobile/tecno-pova-5-revie...</td>\n      <td>data/review_texts/ixbt/tecno pova 5_text_20230...</td>\n      <td>data/review_htmls/ixbt/tecno pova 5_text_20230...</td>\n      <td>True</td>\n    </tr>\n    <tr>\n      <th>2</th>\n      <td>ixbt</td>\n      <td>Vivo X90 Pro Plus</td>\n      <td>https://www.ixbt.com/mobile/vivo-x90-pro-plus-...</td>\n      <td>data/review_texts/ixbt/vivo x90 pro plus_text_...</td>\n      <td>data/review_htmls/ixbt/vivo x90 pro plus_text_...</td>\n      <td>True</td>\n    </tr>\n    <tr>\n      <th>3</th>\n      <td>ixbt</td>\n      <td>Xiaomi 13</td>\n      <td>https://www.ixbt.com/mobile/xiaomi-13-review.html</td>\n      <td>data/review_texts/ixbt/xiaomi 13_text_20230906...</td>\n      <td>data/review_htmls/ixbt/xiaomi 13_text_20230906...</td>\n      <td>True</td>\n    </tr>\n    <tr>\n      <th>4</th>\n      <td>ixbt</td>\n      <td>Huawei P60 Pro</td>\n      <td>https://www.ixbt.com/mobile/huawei-p60-pro-rev...</td>\n      <td>data/review_texts/ixbt/huawei p60 pro_text_202...</td>\n      <td>data/review_htmls/ixbt/huawei p60 pro_text_202...</td>\n      <td>True</td>\n    </tr>\n    <tr>\n      <th>5</th>\n      <td>ixbt</td>\n      <td>Samsung Galaxy S23 Ultra</td>\n      <td>https://www.ixbt.com/mobile/samsung-galaxy-s23...</td>\n      <td>data/review_texts/ixbt/samsung galaxy s23 ultr...</td>\n      <td>data/review_htmls/ixbt/samsung galaxy s23 ultr...</td>\n      <td>True</td>\n    </tr>\n    <tr>\n      <th>6</th>\n      <td>ixbt</td>\n      <td>Huawei Mate 50</td>\n      <td>https://www.ixbt.com/mobile/huawei-mate-50-rev...</td>\n      <td>data/review_texts/ixbt/huawei mate 50_text_202...</td>\n      <td>data/review_htmls/ixbt/huawei mate 50_text_202...</td>\n      <td>True</td>\n    </tr>\n    <tr>\n      <th>7</th>\n      <td>ixbt</td>\n      <td>Realme C35</td>\n      <td>https://www.ixbt.com/mobile/realme-c35-review....</td>\n      <td>data/review_texts/ixbt/realme c35_text_2023090...</td>\n      <td>data/review_htmls/ixbt/realme c35_text_2023090...</td>\n      <td>True</td>\n    </tr>\n    <tr>\n      <th>8</th>\n      <td>ixbt</td>\n      <td>Vivo V25 Pro</td>\n      <td>https://www.ixbt.com/mobile/vivo-v25-pro-revie...</td>\n      <td>data/review_texts/ixbt/vivo v25 pro_text_20230...</td>\n      <td>data/review_htmls/ixbt/vivo v25 pro_text_20230...</td>\n      <td>True</td>\n    </tr>\n    <tr>\n      <th>9</th>\n      <td>ixbt</td>\n      <td>Vivo Y35</td>\n      <td>https://www.ixbt.com/mobile/vivo-y35-review.html</td>\n      <td>data/review_texts/ixbt/vivo y35_text_20230906.txt</td>\n      <td>data/review_htmls/ixbt/vivo y35_text_20230906.txt</td>\n      <td>True</td>\n    </tr>\n  </tbody>\n</table>\n</div>"
     },
     "execution_count": 11,
     "metadata": {},
     "output_type": "execute_result"
    }
   ],
   "source": [
    "df[:10]"
   ],
   "metadata": {
    "collapsed": false,
    "ExecuteTime": {
     "end_time": "2023-09-08T08:20:57.167236666Z",
     "start_time": "2023-09-08T08:20:57.164693896Z"
    }
   },
   "id": "b3f68e5874b2841f"
  },
  {
   "cell_type": "code",
   "execution_count": 12,
   "outputs": [],
   "source": [
    "summary_table = pd.read_csv(Config.summary_path)"
   ],
   "metadata": {
    "collapsed": false,
    "ExecuteTime": {
     "end_time": "2023-09-08T08:22:14.517608244Z",
     "start_time": "2023-09-08T08:22:14.475827731Z"
    }
   },
   "id": "4ea10aa986766a2"
  },
  {
   "cell_type": "code",
   "execution_count": 13,
   "outputs": [
    {
     "data": {
      "text/plain": "                                file_name          phone_name   blogger  \\\n0       asus zenfone 10_text_20230906.txt     asus zenfone 10      4pda   \n1              honor 70_text_20230906.txt            honor 70      4pda   \n2    huawei mate 50 pro_text_20230906.txt  huawei mate 50 pro      4pda   \n3        huawei mate 50_text_20230906.txt      huawei mate 50      4pda   \n4    huawei nova 10 pro_text_20230906.txt  huawei nova 10 pro      4pda   \n..                                    ...                 ...       ...   \n102     nothing phone 2_text_20230906.txt     nothing phone 2  wylsacom   \n103      oneplus 10 pro_text_20230906.txt      oneplus 10 pro  wylsacom   \n104       redmi note 11_text_20230906.txt       redmi note 11  wylsacom   \n105        tecno pova 5_text_20230906.txt        tecno pova 5  wylsacom   \n106            vivo v23_text_20230906.txt            vivo v23  wylsacom   \n\n                                            conclusion  \\\n0     Как и предшественник, новый ZenFone 10 получи...   \n1     Итоги Honor 70 — интересный смартфон среднего...   \n2     Итоги HUAWEI Mate 50 Pro — достойный представ...   \n3     Итоги HUAWEI Mate 50 — неоднозначный аппарат....   \n4     Смартфон радует хорошей производительностью, ...   \n..                                                 ...   \n102   Несмотря на все перечисленные недостатки, Not...   \n103   Так стоит ли мечтать о OnePlus 10 Pro или при...   \n104   Пожурить телефон можно за камеру: возможно, к...   \n105   Когда покупаешь дорогой смартфон, то хочешь э...   \n106    В России vivo V23 с 8/128 ГБ памяти продаётс...   \n\n                                             full_text  \\\n0    Обзор ASUS ZenFone 10: мощный малый глазами за...   \n1    Обзор Honor 70: все тренды учтены01.11.2243В р...   \n2     Обзор HUAWEI Mate 50 Pro: в погоне за фотоапп...   \n3     Обзор HUAWEI Mate 50: всё на максималках13.12...   \n4     Обзор HUAWEI nova 10 Pro: снимай красиво, зар...   \n..                                                 ...   \n102        Так как обзор выходит в момент снятия эм...   \n103     Появление нового флагмана — всегда событие....   \n104       Базовый дизайн Мой телефон чёрного цвета,...   \n105      Популярная серия смартфонов TECNO POVA пол...   \n106    Помимо эффектной внешности новый vivo V23 от...   \n\n                                               battery  \\\n0    В опциях смартфона есть несколько функций, про...   \n1    Результаты тестирования  Стойкий аккумулятор с...   \n2    Есть и беспроводная зарядка Wireless SuperChar...   \n3    До 50% гаджет заряжается за 17 минут, а полное...   \n4    Не нужны сервисы Google, а скорость подзарядки...   \n..                                                 ...   \n102  Про работу аккумулятора, заявленная ёмкость ко...   \n103  Ещё присутствует очень быстрая беспроводная за...   \n104  Это день активного использования устройства ил...   \n105  Если смотреть тот же ролик, но через LTE на ма...   \n106  Автономность Заявленная ёмкость аккумулятора v...   \n\n                                                camera  \\\n0    Во-вторых, адаптивный режим, который автоматич...   \n1    Основной модуль — передовой Sony IMX800 на 54 ...   \n2    А чтобы запечатлеть динамичную сцену днём, выс...   \n3    Хорошая резкость, но не совсем точная цветопер...   \n4    В кадре можно разместить целую компаниюТак выг...   \n..                                                 ...   \n102  Исходя из этого, я рассчитал, что эквивалентно...   \n103  Хотя можно придраться к тому, что изображение ...   \n104  Разницу в детализации можно увидеть при увелич...   \n105  А ещё порадовали разнообразные варианты для за...   \n106  Основной модуль на 64 Мп (f/1.9) и без оптичес...   \n\n                                                screen  \\\n0    Настройки предлагают пять пресетов, регулирующ...   \n1    Традиционный для бренда экран-водопад В Honor ...   \n2    Разве что боковые грани бликуют на солнце — не...   \n3    У дисплея быстрый отклик, отличные углы обзора...   \n4    Набирать текст это не мешает, а вот блики от л...   \n..                                                 ...   \n102  Согласно ему, одна или несколько моделей линей...   \n103  Дисплей с 6,7-дюймовой диагональю, разрешением...   \n104  Сочный экран с 90 Гц У дисплея диагональ 6,43 ...   \n105  Удивить исключительно физическими размерами уж...   \n106  Экран яркий и контрастный, можно вручную менят...   \n\n                                                design  \\\n0    В красном цвете покрытие напоминает наждачную ...   \n1    В остальном экран только радует. Под экраном р...   \n2    Mate 50 Pro удивляет тыльной крышкой из оранже...   \n3    Насколько удачным получился гаджет? Из коробки...   \n4    Это заслуга корпуса толщиной менее 7,9 мм, а т...   \n..                                                 ...   \n102  И если вслед за iPhone 12 многие производители...   \n103  Смартфон слегка покачивается на поверхности, к...   \n104  Я не люблю излишне насыщенные цвета, но в данн...   \n105  Фактически же это красивый рисунок под прозрач...   \n106  Смартфон впечатлил переливами: задняя часть в ...   \n\n                                              hardware  \\\n0    В настройках представлены два варианта интерфе...   \n1    На бумаге он может похвастаться новейшей камер...   \n2    Вся мощь старшего «дракона» Модель работает на...   \n3    Mate 50 не стал исключением: он оснащён чипсет...   \n4    Хорош в играх и не только Процессор Qualcomm S...   \n..                                                 ...   \n102  Железо Смартфон получил прошлогодний Snapdrago...   \n103  Начинка Для меня это первое устройство с новей...   \n104  Но «серые» версии уже продаются, цены начинают...   \n105  Версия 8/128 ГБ будет стоить 15 990 рублей, а ...   \n106  У меня была самая мощная версия vivo V23 с 12 ...   \n\n                                                 sound  \\\n0    И они даже слегка уменьшились по сравнению с п...   \n1    Звук пишется качественно — в стерео и с грамот...   \n2    Как и положено, аппарат оснастили стереодинами...   \n3    Несмотря на это, стереоэффект остаётся ощутимы...   \n4    Отсутствует и разъём для наушников — впрочем, ...   \n..                                                 ...   \n102  Тут видно, что добавили электронный стаб, а зв...   \n103  Можно выбрать между беззвучным, вибрацией или ...   \n104  Во время разговоров можно использовать встроен...   \n105  Сохранили и 3,5-мм порт для наушников для цени...   \n106  Вообще, с видео всё было бы хорошо, но подвёл ...   \n\n                                        sum_conclusion  \n0     Как и предшественник, новый ZenFone 10 получи...  \n1     Итоги Honor 70 — интересный смартфон среднего...  \n2     Итоги HUAWEI Mate 50 Pro — достойный представ...  \n3     Итоги HUAWEI Mate 50 — неоднозначный аппарат....  \n4     Смартфон радует хорошей производительностью, ...  \n..                                                 ...  \n102   Несмотря на все перечисленные недостатки, Not...  \n103  Судя по OnePlus 10 Pro, идея слияния OPPO и On...  \n104  В целом Redmi Note 11 мне понравился качествен...  \n105  У TECNO POVA 5 с этим полный порядок, смартфон...  \n106    В России vivo V23 с 8/128 ГБ памяти продаётс...  \n\n[107 rows x 12 columns]",
      "text/html": "<div>\n<style scoped>\n    .dataframe tbody tr th:only-of-type {\n        vertical-align: middle;\n    }\n\n    .dataframe tbody tr th {\n        vertical-align: top;\n    }\n\n    .dataframe thead th {\n        text-align: right;\n    }\n</style>\n<table border=\"1\" class=\"dataframe\">\n  <thead>\n    <tr style=\"text-align: right;\">\n      <th></th>\n      <th>file_name</th>\n      <th>phone_name</th>\n      <th>blogger</th>\n      <th>conclusion</th>\n      <th>full_text</th>\n      <th>battery</th>\n      <th>camera</th>\n      <th>screen</th>\n      <th>design</th>\n      <th>hardware</th>\n      <th>sound</th>\n      <th>sum_conclusion</th>\n    </tr>\n  </thead>\n  <tbody>\n    <tr>\n      <th>0</th>\n      <td>asus zenfone 10_text_20230906.txt</td>\n      <td>asus zenfone 10</td>\n      <td>4pda</td>\n      <td>Как и предшественник, новый ZenFone 10 получи...</td>\n      <td>Обзор ASUS ZenFone 10: мощный малый глазами за...</td>\n      <td>В опциях смартфона есть несколько функций, про...</td>\n      <td>Во-вторых, адаптивный режим, который автоматич...</td>\n      <td>Настройки предлагают пять пресетов, регулирующ...</td>\n      <td>В красном цвете покрытие напоминает наждачную ...</td>\n      <td>В настройках представлены два варианта интерфе...</td>\n      <td>И они даже слегка уменьшились по сравнению с п...</td>\n      <td>Как и предшественник, новый ZenFone 10 получи...</td>\n    </tr>\n    <tr>\n      <th>1</th>\n      <td>honor 70_text_20230906.txt</td>\n      <td>honor 70</td>\n      <td>4pda</td>\n      <td>Итоги Honor 70 — интересный смартфон среднего...</td>\n      <td>Обзор Honor 70: все тренды учтены01.11.2243В р...</td>\n      <td>Результаты тестирования  Стойкий аккумулятор с...</td>\n      <td>Основной модуль — передовой Sony IMX800 на 54 ...</td>\n      <td>Традиционный для бренда экран-водопад В Honor ...</td>\n      <td>В остальном экран только радует. Под экраном р...</td>\n      <td>На бумаге он может похвастаться новейшей камер...</td>\n      <td>Звук пишется качественно — в стерео и с грамот...</td>\n      <td>Итоги Honor 70 — интересный смартфон среднего...</td>\n    </tr>\n    <tr>\n      <th>2</th>\n      <td>huawei mate 50 pro_text_20230906.txt</td>\n      <td>huawei mate 50 pro</td>\n      <td>4pda</td>\n      <td>Итоги HUAWEI Mate 50 Pro — достойный представ...</td>\n      <td>Обзор HUAWEI Mate 50 Pro: в погоне за фотоапп...</td>\n      <td>Есть и беспроводная зарядка Wireless SuperChar...</td>\n      <td>А чтобы запечатлеть динамичную сцену днём, выс...</td>\n      <td>Разве что боковые грани бликуют на солнце — не...</td>\n      <td>Mate 50 Pro удивляет тыльной крышкой из оранже...</td>\n      <td>Вся мощь старшего «дракона» Модель работает на...</td>\n      <td>Как и положено, аппарат оснастили стереодинами...</td>\n      <td>Итоги HUAWEI Mate 50 Pro — достойный представ...</td>\n    </tr>\n    <tr>\n      <th>3</th>\n      <td>huawei mate 50_text_20230906.txt</td>\n      <td>huawei mate 50</td>\n      <td>4pda</td>\n      <td>Итоги HUAWEI Mate 50 — неоднозначный аппарат....</td>\n      <td>Обзор HUAWEI Mate 50: всё на максималках13.12...</td>\n      <td>До 50% гаджет заряжается за 17 минут, а полное...</td>\n      <td>Хорошая резкость, но не совсем точная цветопер...</td>\n      <td>У дисплея быстрый отклик, отличные углы обзора...</td>\n      <td>Насколько удачным получился гаджет? Из коробки...</td>\n      <td>Mate 50 не стал исключением: он оснащён чипсет...</td>\n      <td>Несмотря на это, стереоэффект остаётся ощутимы...</td>\n      <td>Итоги HUAWEI Mate 50 — неоднозначный аппарат....</td>\n    </tr>\n    <tr>\n      <th>4</th>\n      <td>huawei nova 10 pro_text_20230906.txt</td>\n      <td>huawei nova 10 pro</td>\n      <td>4pda</td>\n      <td>Смартфон радует хорошей производительностью, ...</td>\n      <td>Обзор HUAWEI nova 10 Pro: снимай красиво, зар...</td>\n      <td>Не нужны сервисы Google, а скорость подзарядки...</td>\n      <td>В кадре можно разместить целую компаниюТак выг...</td>\n      <td>Набирать текст это не мешает, а вот блики от л...</td>\n      <td>Это заслуга корпуса толщиной менее 7,9 мм, а т...</td>\n      <td>Хорош в играх и не только Процессор Qualcomm S...</td>\n      <td>Отсутствует и разъём для наушников — впрочем, ...</td>\n      <td>Смартфон радует хорошей производительностью, ...</td>\n    </tr>\n    <tr>\n      <th>...</th>\n      <td>...</td>\n      <td>...</td>\n      <td>...</td>\n      <td>...</td>\n      <td>...</td>\n      <td>...</td>\n      <td>...</td>\n      <td>...</td>\n      <td>...</td>\n      <td>...</td>\n      <td>...</td>\n      <td>...</td>\n    </tr>\n    <tr>\n      <th>102</th>\n      <td>nothing phone 2_text_20230906.txt</td>\n      <td>nothing phone 2</td>\n      <td>wylsacom</td>\n      <td>Несмотря на все перечисленные недостатки, Not...</td>\n      <td>Так как обзор выходит в момент снятия эм...</td>\n      <td>Про работу аккумулятора, заявленная ёмкость ко...</td>\n      <td>Исходя из этого, я рассчитал, что эквивалентно...</td>\n      <td>Согласно ему, одна или несколько моделей линей...</td>\n      <td>И если вслед за iPhone 12 многие производители...</td>\n      <td>Железо Смартфон получил прошлогодний Snapdrago...</td>\n      <td>Тут видно, что добавили электронный стаб, а зв...</td>\n      <td>Несмотря на все перечисленные недостатки, Not...</td>\n    </tr>\n    <tr>\n      <th>103</th>\n      <td>oneplus 10 pro_text_20230906.txt</td>\n      <td>oneplus 10 pro</td>\n      <td>wylsacom</td>\n      <td>Так стоит ли мечтать о OnePlus 10 Pro или при...</td>\n      <td>Появление нового флагмана — всегда событие....</td>\n      <td>Ещё присутствует очень быстрая беспроводная за...</td>\n      <td>Хотя можно придраться к тому, что изображение ...</td>\n      <td>Дисплей с 6,7-дюймовой диагональю, разрешением...</td>\n      <td>Смартфон слегка покачивается на поверхности, к...</td>\n      <td>Начинка Для меня это первое устройство с новей...</td>\n      <td>Можно выбрать между беззвучным, вибрацией или ...</td>\n      <td>Судя по OnePlus 10 Pro, идея слияния OPPO и On...</td>\n    </tr>\n    <tr>\n      <th>104</th>\n      <td>redmi note 11_text_20230906.txt</td>\n      <td>redmi note 11</td>\n      <td>wylsacom</td>\n      <td>Пожурить телефон можно за камеру: возможно, к...</td>\n      <td>Базовый дизайн Мой телефон чёрного цвета,...</td>\n      <td>Это день активного использования устройства ил...</td>\n      <td>Разницу в детализации можно увидеть при увелич...</td>\n      <td>Сочный экран с 90 Гц У дисплея диагональ 6,43 ...</td>\n      <td>Я не люблю излишне насыщенные цвета, но в данн...</td>\n      <td>Но «серые» версии уже продаются, цены начинают...</td>\n      <td>Во время разговоров можно использовать встроен...</td>\n      <td>В целом Redmi Note 11 мне понравился качествен...</td>\n    </tr>\n    <tr>\n      <th>105</th>\n      <td>tecno pova 5_text_20230906.txt</td>\n      <td>tecno pova 5</td>\n      <td>wylsacom</td>\n      <td>Когда покупаешь дорогой смартфон, то хочешь э...</td>\n      <td>Популярная серия смартфонов TECNO POVA пол...</td>\n      <td>Если смотреть тот же ролик, но через LTE на ма...</td>\n      <td>А ещё порадовали разнообразные варианты для за...</td>\n      <td>Удивить исключительно физическими размерами уж...</td>\n      <td>Фактически же это красивый рисунок под прозрач...</td>\n      <td>Версия 8/128 ГБ будет стоить 15 990 рублей, а ...</td>\n      <td>Сохранили и 3,5-мм порт для наушников для цени...</td>\n      <td>У TECNO POVA 5 с этим полный порядок, смартфон...</td>\n    </tr>\n    <tr>\n      <th>106</th>\n      <td>vivo v23_text_20230906.txt</td>\n      <td>vivo v23</td>\n      <td>wylsacom</td>\n      <td>В России vivo V23 с 8/128 ГБ памяти продаётс...</td>\n      <td>Помимо эффектной внешности новый vivo V23 от...</td>\n      <td>Автономность Заявленная ёмкость аккумулятора v...</td>\n      <td>Основной модуль на 64 Мп (f/1.9) и без оптичес...</td>\n      <td>Экран яркий и контрастный, можно вручную менят...</td>\n      <td>Смартфон впечатлил переливами: задняя часть в ...</td>\n      <td>У меня была самая мощная версия vivo V23 с 12 ...</td>\n      <td>Вообще, с видео всё было бы хорошо, но подвёл ...</td>\n      <td>В России vivo V23 с 8/128 ГБ памяти продаётс...</td>\n    </tr>\n  </tbody>\n</table>\n<p>107 rows × 12 columns</p>\n</div>"
     },
     "execution_count": 13,
     "metadata": {},
     "output_type": "execute_result"
    }
   ],
   "source": [
    "summary_table"
   ],
   "metadata": {
    "collapsed": false,
    "ExecuteTime": {
     "end_time": "2023-09-08T08:22:19.317550005Z",
     "start_time": "2023-09-08T08:22:19.300716338Z"
    }
   },
   "id": "56f648816e2ca8af"
  },
  {
   "cell_type": "code",
   "execution_count": null,
   "outputs": [],
   "source": [],
   "metadata": {
    "collapsed": false
   },
   "id": "213cbcd77668eaf"
  }
 ],
 "metadata": {
  "kernelspec": {
   "display_name": "Python 3",
   "language": "python",
   "name": "python3"
  },
  "language_info": {
   "codemirror_mode": {
    "name": "ipython",
    "version": 2
   },
   "file_extension": ".py",
   "mimetype": "text/x-python",
   "name": "python",
   "nbconvert_exporter": "python",
   "pygments_lexer": "ipython2",
   "version": "2.7.6"
  }
 },
 "nbformat": 4,
 "nbformat_minor": 5
}
