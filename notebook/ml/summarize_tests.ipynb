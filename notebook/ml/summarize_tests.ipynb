{
 "cells": [
  {
   "cell_type": "code",
   "execution_count": 1,
   "metadata": {},
   "outputs": [],
   "source": [
    "import torch\n",
    "\n",
    "from transformers import (\n",
    "    AutoTokenizer,\n",
    "    T5ForConditionalGeneration,\n",
    "    MBartTokenizer,\n",
    "    MBartForConditionalGeneration,\n",
    "    BertForTokenClassification,\n",
    "    AutoModelForSequenceClassification,\n",
    ")\n",
    "from nltk import sent_tokenize"
   ]
  },
  {
   "cell_type": "code",
   "execution_count": 2,
   "metadata": {},
   "outputs": [],
   "source": [
    "device = torch.device('cuda' if torch.cuda.is_available() else 'cpu')"
   ]
  },
  {
   "cell_type": "code",
   "execution_count": 3,
   "metadata": {},
   "outputs": [],
   "source": [
    "class_tokenizer = AutoTokenizer.from_pretrained(\"cointegrated/rubert-tiny2\")\n",
    "class_model = AutoModelForSequenceClassification.from_pretrained(\n",
    "    \"../models/tiny_rubert_fine_tune/tiny_rubert_finetuned_v1\", num_labels=6\n",
    ").to(device)"
   ]
  },
  {
   "cell_type": "code",
   "execution_count": 4,
   "metadata": {},
   "outputs": [],
   "source": [
    "ext_sum_tokenizer = AutoTokenizer.from_pretrained(\"IlyaGusev/rubert_ext_sum_gazeta\")\n",
    "sep_token = ext_sum_tokenizer.sep_token\n",
    "sep_token_id = ext_sum_tokenizer.sep_token_id\n",
    "ext_sum_model = BertForTokenClassification.from_pretrained(\"IlyaGusev/rubert_ext_sum_gazeta\").to(device)"
   ]
  },
  {
   "cell_type": "code",
   "execution_count": 5,
   "metadata": {},
   "outputs": [],
   "source": [
    "def get_sentances(text):\n",
    "    paragraphs = []\n",
    "    for paragraph in text.replace(\"\\r\\n\", \"\\n\").split(\"\\n\\n\"):\n",
    "        if len(paragraph.strip()) > 0:\n",
    "            paragraphs.append(sent_tokenize(paragraph.strip()))\n",
    "    \n",
    "    return [sentance for paragraph in paragraphs for sentance in paragraph]"
   ]
  },
  {
   "cell_type": "code",
   "execution_count": 169,
   "metadata": {},
   "outputs": [],
   "source": [
    "sents = get_sentances(text)"
   ]
  },
  {
   "cell_type": "code",
   "execution_count": 171,
   "metadata": {},
   "outputs": [],
   "source": [
    "def get_cat(sentances, model=class_model, tokenizer=class_tokenizer, cats=6):\n",
    "    weighted_sentances = [{} for i in range(cats)]\n",
    "    final_sentances = []\n",
    "    \n",
    "    for sent in sentances:\n",
    "        \n",
    "        inputs = tokenizer(\n",
    "        sent, padding=True, truncation=True, return_tensors=\"pt\"\n",
    "        ).to(device)\n",
    "        logits = model(**inputs).logits\n",
    "        \n",
    "        if logits.max().item() < 5:\n",
    "            continue\n",
    "        \n",
    "        pred_cat = logits.argmax().item()\n",
    "        weighted_sentances[pred_cat][sent] = logits.max().item()\n",
    "        \n",
    "    for ind, weighted_sent in enumerate(weighted_sentances):\n",
    "        if len(weighted_sent) > 5:\n",
    "            truncated_sentances = [key for key, val in sorted(weighted_sentances[ind].items(), \n",
    "                                                            key=lambda x: x[1], reverse=True)][:5]\n",
    "            \n",
    "        else:\n",
    "            truncated_sentances = [key for key, val in sorted(weighted_sentances[ind].items(), \n",
    "                                                            key=lambda x: x[1], reverse=True)]\n",
    "        \n",
    "        final_sentances.append(truncated_sentances)\n",
    "    \n",
    "    return final_sentances\n",
    "    "
   ]
  },
  {
   "cell_type": "code",
   "execution_count": 172,
   "metadata": {},
   "outputs": [],
   "source": [
    "sents_labeled = get_cat(sents)"
   ]
  },
  {
   "cell_type": "code",
   "execution_count": 173,
   "metadata": {},
   "outputs": [
    {
     "data": {
      "text/plain": [
       "['К недостаткам — низкую стабильность черного к отклонению взгляда от перпендикуляра к плоскости экрана, агрессивную неотключаемую динамическую подстройку яркости и перенасыщенные цвета.',\n",
       " 'Вообще, такая неотключаемая коррекция яркости ничего кроме вреда не приносит, поскольку постоянная смена яркости экрана как минимум может вызывать некоторый дискомфорт, снижает различимость градаций в тенях в случае темных изображений и читаемость экрана на ярком свету, так как на не самых светлых в среднем изображениях яркость подсветки существенно занижается.',\n",
       " 'Приведем фотографии, на которых на экраны смартфона и Nexus 7 выведены одинаковые изображения, при этом яркость экранов изначально установлена примерно на 200 кд/м², а цветовой баланс на фотоаппарате принудительно переключен на 6500 К.\\nПерпендикулярно к экранам белое поле:',\n",
       " 'При ручном управлении яркостью и при выводе белого поля во весь экран максимальное значение яркости составило 550 кд/м².',\n",
       " 'Спектры компонент достаточно хорошо разделены, что и обуславливает широкий цветовой охват.']"
      ]
     },
     "execution_count": 173,
     "metadata": {},
     "output_type": "execute_result"
    }
   ],
   "source": [
    "sents_labeled[2]"
   ]
  },
  {
   "cell_type": "code",
   "execution_count": 174,
   "metadata": {},
   "outputs": [],
   "source": [
    "def ext_summarize(text, tokenizer=ext_sum_tokenizer, model=ext_sum_model):\n",
    "    sentences = [s for s in sent_tokenize(text)]\n",
    "    article_text = sep_token.join(sentences)\n",
    "\n",
    "    inputs = tokenizer(\n",
    "        [article_text],\n",
    "        max_length=3000,\n",
    "        padding=True,\n",
    "        truncation=True,\n",
    "        return_tensors=\"pt\",\n",
    "    ).to(device)\n",
    "    sep_mask = inputs[\"input_ids\"][0] == sep_token_id\n",
    "\n",
    "    # Fix token_type_ids\n",
    "    current_token_type_id = 0 \n",
    "    for pos, input_id in enumerate(inputs[\"input_ids\"][0]):\n",
    "        inputs[\"token_type_ids\"][0][pos] = current_token_type_id\n",
    "        if input_id == sep_token_id:\n",
    "            current_token_type_id = 1 - current_token_type_id\n",
    "\n",
    "    # Infer model\n",
    "    with torch.no_grad(): \n",
    "        outputs = model(**inputs) \n",
    "    logits = outputs.logits[0, :, 1]\n",
    "    \n",
    "    logits = logits[sep_mask]\n",
    "    logits, indices = logits.sort(descending=True)\n",
    "    logits, indices = logits.cpu().tolist(), indices.cpu().tolist()\n",
    "    pairs = list(zip(logits, indices))\n",
    "    pairs = pairs[:3]\n",
    "    indices = list(sorted([idx for _, idx in pairs]))\n",
    "    summary = \" \".join([sentences[idx] for idx in indices])\n",
    "    return summary"
   ]
  },
  {
   "cell_type": "code",
   "execution_count": 176,
   "metadata": {},
   "outputs": [
    {
     "data": {
      "text/plain": [
       "'От комплектного сетевого зарядного устройства мощностью 45 Вт смартфон полностью заряжается за 1 час. Время автономной работы\\nСмартфон Tecno Pova 5 получил батарею с увеличенным объемом 6000 мА·ч, однако в тестах продемонстрировал примерно такую же автономность, как многие смартфоны с батареей в 5000 мА·ч. Комплект включает зарядное устройство с максимальной выходной мощностью 45 Вт, соединительный кабель, защитную пленку на экран и гибкий прозрачный защитный чехол.'"
      ]
     },
     "execution_count": 176,
     "metadata": {},
     "output_type": "execute_result"
    }
   ],
   "source": [
    "ext_summarize(\" \".join(sents_labeled[0]))"
   ]
  },
  {
   "cell_type": "code",
   "execution_count": 177,
   "metadata": {},
   "outputs": [
    {
     "data": {
      "text/plain": [
       "['В этом смартфоне установлены стереодинамики, и они выдают максимально громкий и вполне достойный насыщенный яркий звук с широким диапазоном частот.',\n",
       " 'На нижнем торце установлены динамик, микрофон, разъем USB Type-C и 3,5-миллиметровый аудиовыход.',\n",
       " 'Также сохранен 3,5-миллиметровый аудиовыход для проводных наушников.',\n",
       " 'Есть функция записи телефонных разговоров с линии.',\n",
       " 'Все необходимые встроенные датчики, вплоть до гироскопа, на месте.']"
      ]
     },
     "execution_count": 177,
     "metadata": {},
     "output_type": "execute_result"
    }
   ],
   "source": [
    "sents_labeled[5]"
   ]
  },
  {
   "cell_type": "code",
   "execution_count": 162,
   "metadata": {},
   "outputs": [],
   "source": [
    "texts = []\n",
    "for i in range(6):\n",
    "    texts.append(ext_summarize(\" \".join(sents_labeled[i])))\n",
    "    # texts.append(generate(mbart_tokenizer, mbart_model, \" \".join(sents_labeled[i])))"
   ]
  },
  {
   "cell_type": "code",
   "execution_count": 163,
   "metadata": {},
   "outputs": [
    {
     "data": {
      "text/plain": [
       "['Беспроводная зарядка не поддерживается. От комплектного сетевого зарядного устройства мощностью 45 Вт смартфон полностью заряжается за 1 час. Время автономной работы\\nСмартфон Tecno Pova 5 получил батарею с увеличенным объемом 6000 мА·ч, однако в тестах продемонстрировал примерно такую же автономность, как многие смартфоны с батареей в 5000 мА·ч.',\n",
       " 'Детализация не такая высокая, как хотелось бы: изображение рыхловатое, по качеству не сильно лучше, чем 1080р. И тестовая картинка (профиль Оригинальный цвет): Разница в деталях едва заметна, и в целом лучше смотрятся даже обработанные 12,5-мегапиксельные фото с искусственно увеличенной резкостью, в то время как полноразмерная картинка 50 Мп выглядит мыльной и полна мелких артефактов. По умолчанию снимки делаются в разрешении 12,5 Мп с функцией объединения пикселей (4 в 1).',\n",
       " 'К недостаткам — низкую стабильность черного к отклонению взгляда от перпендикуляра к плоскости экрана, агрессивную неотключаемую динамическую подстройку яркости и перенасыщенные цвета. Вообще, такая неотключаемая коррекция яркости ничего кроме вреда не приносит, поскольку постоянная смена яркости экрана как минимум может вызывать некоторый дискомфорт, снижает различимость градаций в тенях в случае темных изображений и читаемость экрана на ярком свету, так как на не самых светлых в среднем изображениях яркость подсветки существенно занижается. Приведем фотографии, на которых на экраны смартфона и Nexus 7 выведены одинаковые изображения, при этом яркость экранов изначально установлена примерно на 200 кд/м², а цветовой баланс на фотоаппарате принудительно переключен на 6500 К.\\nПерпендикулярно к экранам белое поле: При ручном управлении яркостью и при выводе белого поля во весь экран максимальное значение яркости составило 550 кд/м².',\n",
       " 'Лицевая поверхность экрана выполнена в виде стеклянной пластины с зеркально-гладкой поверхностью, устойчивой к появлению царапин. Почему их сделали такими, что они практически не выпирают за пределы поверхности, непонятно. Всего профилей два.',\n",
       " 'Объем встроенного хранилища UFS 2.2 — 128 или 256 ГБ. Снижение производительности из-за перегрева под большой нагрузкой умеренное. Также в смартфоне установлен беспроводной адаптер с поддержкой Wi-Fi 5 (802.11a/b/g/n/ac, 2,4/5 ГГц) и Bluetooth 5.0, реализована поддержка NFC.',\n",
       " 'В этом смартфоне установлены стереодинамики, и они выдают максимально громкий и вполне достойный насыщенный яркий звук с широким диапазоном частот. На нижнем торце установлены динамик, микрофон, разъем USB Type-C и 3,5-миллиметровый аудиовыход. Также сохранен 3,5-миллиметровый аудиовыход для проводных наушников.']"
      ]
     },
     "execution_count": 163,
     "metadata": {},
     "output_type": "execute_result"
    }
   ],
   "source": [
    "texts"
   ]
  },
  {
   "cell_type": "code",
   "execution_count": 201,
   "metadata": {},
   "outputs": [
    {
     "data": {
      "text/plain": [
       "'Смартфон Tecno Pova 5 получил увеличенную батарею с увеличенным объемом 6000 мА·ч, однако в тестах продемонстрировал примерно такую же автономность, как многие смартфоны с батареей в 5000 мА·ч. Детализация не такая высокая, как хотелось бы, и в целом лучше смотрятся даже обработанные 12,5-мегапиксельные фото с искусственно увеличенной резкостью, в то время как полноразмерная картинка 50 Мп выглядит мыльной и полна мелких артефактов.'"
      ]
     },
     "execution_count": 201,
     "metadata": {},
     "output_type": "execute_result"
    }
   ],
   "source": [
    "generate(mbart_tokenizer, mbart_model, \" \".join(texts))"
   ]
  },
  {
   "cell_type": "code",
   "execution_count": 185,
   "metadata": {},
   "outputs": [
    {
     "data": {
      "text/plain": [
       "['Беспроводная зарядка не поддерживается. От комплектного сетевого зарядного устройства мощностью 45 Вт смартфон полностью заряжается за 1 час. Время автономной работы\\nСмартфон Tecno Pova 5 получил батарею с увеличенным объемом 6000 мА·ч, однако в тестах продемонстрировал примерно такую же автономность, как многие смартфоны с батареей в 5000 мА·ч.',\n",
       " 'Детализация не такая высокая, как хотелось бы: изображение рыхловатое, по качеству не сильно лучше, чем 1080р. И тестовая картинка (профиль Оригинальный цвет): Разница в деталях едва заметна, и в целом лучше смотрятся даже обработанные 12,5-мегапиксельные фото с искусственно увеличенной резкостью, в то время как полноразмерная картинка 50 Мп выглядит мыльной и полна мелких артефактов. По умолчанию снимки делаются в разрешении 12,5 Мп с функцией объединения пикселей (4 в 1).',\n",
       " 'К недостаткам — низкую стабильность черного к отклонению взгляда от перпендикуляра к плоскости экрана, агрессивную неотключаемую динамическую подстройку яркости и перенасыщенные цвета. Вообще, такая неотключаемая коррекция яркости ничего кроме вреда не приносит, поскольку постоянная смена яркости экрана как минимум может вызывать некоторый дискомфорт, снижает различимость градаций в тенях в случае темных изображений и читаемость экрана на ярком свету, так как на не самых светлых в среднем изображениях яркость подсветки существенно занижается. Приведем фотографии, на которых на экраны смартфона и Nexus 7 выведены одинаковые изображения, при этом яркость экранов изначально установлена примерно на 200 кд/м², а цветовой баланс на фотоаппарате принудительно переключен на 6500 К.\\nПерпендикулярно к экранам белое поле: При ручном управлении яркостью и при выводе белого поля во весь экран максимальное значение яркости составило 550 кд/м².',\n",
       " 'Лицевая поверхность экрана выполнена в виде стеклянной пластины с зеркально-гладкой поверхностью, устойчивой к появлению царапин. Почему их сделали такими, что они практически не выпирают за пределы поверхности, непонятно. Всего профилей два.',\n",
       " 'Объем встроенного хранилища UFS 2.2 — 128 или 256 ГБ. Снижение производительности из-за перегрева под большой нагрузкой умеренное. Также в смартфоне установлен беспроводной адаптер с поддержкой Wi-Fi 5 (802.11a/b/g/n/ac, 2,4/5 ГГц) и Bluetooth 5.0, реализована поддержка NFC.',\n",
       " 'В этом смартфоне установлены стереодинамики, и они выдают максимально громкий и вполне достойный насыщенный яркий звук с широким диапазоном частот. На нижнем торце установлены динамик, микрофон, разъем USB Type-C и 3,5-миллиметровый аудиовыход. Также сохранен 3,5-миллиметровый аудиовыход для проводных наушников.']"
      ]
     },
     "execution_count": 185,
     "metadata": {},
     "output_type": "execute_result"
    }
   ],
   "source": [
    "texts"
   ]
  },
  {
   "cell_type": "code",
   "execution_count": 100,
   "metadata": {},
   "outputs": [],
   "source": [
    "from transformers import MBartTokenizer, MBartForConditionalGeneration\n",
    "\n",
    "model_name = \"IlyaGusev/mbart_ru_sum_gazeta\"\n",
    "mbart_tokenizer = MBartTokenizer.from_pretrained(model_name)\n",
    "mbart_model = MBartForConditionalGeneration.from_pretrained(model_name).to(device)"
   ]
  },
  {
   "cell_type": "code",
   "execution_count": 200,
   "metadata": {},
   "outputs": [],
   "source": [
    "def generate(tokenizer, model, article_text):\n",
    "    input_ids = tokenizer(\n",
    "    [article_text],\n",
    "    max_length=3000,\n",
    "    add_special_tokens=True,\n",
    "    padding=True,\n",
    "    truncation=True,\n",
    "    return_tensors=\"pt\"\n",
    "    )[\"input_ids\"].to(device)\n",
    "\n",
    "    output_ids = model.generate(\n",
    "        input_ids=input_ids,\n",
    "        no_repeat_ngram_size=6,\n",
    "        max_length=200\n",
    "    \n",
    "      \n",
    "    )[0]\n",
    "\n",
    "    summary = tokenizer.decode(output_ids, skip_special_tokens=True)\n",
    "    return summary"
   ]
  },
  {
   "cell_type": "code",
   "execution_count": 81,
   "metadata": {},
   "outputs": [],
   "source": [
    "\n",
    "from transformers import AutoTokenizer, T5ForConditionalGeneration\n",
    "\n",
    "model_name = \"IlyaGusev/rut5_base_sum_gazeta\"\n",
    "t5_tokenizer = AutoTokenizer.from_pretrained(model_name)\n",
    "t5_model = T5ForConditionalGeneration.from_pretrained(model_name).to(device)"
   ]
  },
  {
   "cell_type": "code",
   "execution_count": 153,
   "metadata": {},
   "outputs": [
    {
     "data": {
      "text/plain": [
       "'\\n\\nВ конечном итоге, у Honor получилась интересная модель для рынка, она стоит своих денег и предлагает отличное качество связи (об этом нынче принято забывать говорить). Интересная камера, дополнительные возможности, быстрая зарядка в комплекте – смартфон станет популярным на российском рынке (продажи в Китае начались ранее, и там смартфон крайне популярен).'"
      ]
     },
     "execution_count": 153,
     "metadata": {},
     "output_type": "execute_result"
    }
   ],
   "source": [
    "ext_summarize(summar)"
   ]
  },
  {
   "cell_type": "code",
   "execution_count": 155,
   "metadata": {},
   "outputs": [
    {
     "name": "stdout",
     "output_type": "stream",
     "text": [
      "В сети появилось видео, на котором показано, как выглядят обработанные 12,5-мегапиксельные фото с искусственно увеличенной резкостью, в то время как полноразмерная картинка 50 Мп выглядит мыльной и полна мелких артефактов.\n"
     ]
    }
   ],
   "source": [
    "generate(mbart_tokenizer, mbart_model, texts[1])"
   ]
  },
  {
   "cell_type": "code",
   "execution_count": 134,
   "metadata": {},
   "outputs": [
    {
     "name": "stdout",
     "output_type": "stream",
     "text": [
      "Смартфон Tecno Pova 5 продемонстрировал примерно такую же автономность, как многие другие смартфоны с батареей в 6000 мАбудьч. В тестах смартфоны продемонстрировали такую же автономность как многие смартфоны с батареей с увеличенным объемом 6000 мАбайсч.\n"
     ]
    }
   ],
   "source": [
    "generate(t5_tokenizer, t5_model, texts[0])"
   ]
  },
  {
   "cell_type": "code",
   "execution_count": null,
   "metadata": {},
   "outputs": [],
   "source": []
  }
 ],
 "metadata": {
  "kernelspec": {
   "display_name": "Python 3",
   "language": "python",
   "name": "python3"
  },
  "language_info": {
   "codemirror_mode": {
    "name": "ipython",
    "version": 3
   },
   "file_extension": ".py",
   "mimetype": "text/x-python",
   "name": "python",
   "nbconvert_exporter": "python",
   "pygments_lexer": "ipython3",
   "version": "3.8.10"
  },
  "orig_nbformat": 4
 },
 "nbformat": 4,
 "nbformat_minor": 2
}
